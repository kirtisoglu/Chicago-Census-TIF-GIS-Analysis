{
  "nbformat": 4,
  "nbformat_minor": 0,
  "metadata": {
    "colab": {
      "provenance": [],
      "authorship_tag": "ABX9TyMZrxkHGZIBVEBAT8OJ93Fl",
      "include_colab_link": true
    },
    "kernelspec": {
      "name": "python3",
      "display_name": "Python 3"
    },
    "language_info": {
      "name": "python"
    }
  },
  "cells": [
    {
      "cell_type": "markdown",
      "metadata": {
        "id": "view-in-github",
        "colab_type": "text"
      },
      "source": [
        "<a href=\"https://colab.research.google.com/github/kirtisoglu/Chicago-Census-TIF-GIS-Analysis/blob/main/Chicago_Census_Data_%26_TIF_Analysis.ipynb\" target=\"_parent\"><img src=\"https://colab.research.google.com/assets/colab-badge.svg\" alt=\"Open In Colab\"/></a>"
      ]
    },
    {
      "cell_type": "code",
      "execution_count": null,
      "metadata": {
        "id": "S0UI6aCAR4Re"
      },
      "outputs": [],
      "source": []
    },
    {
      "cell_type": "markdown",
      "source": [
        "# Content\n",
        "\n",
        "* Sections, content, sumamry\n",
        "\n",
        "-? Kaynak ver, bu sunum buradan hazirlanmistir."
      ],
      "metadata": {
        "id": "hRg4pq5Ka78D"
      }
    },
    {
      "cell_type": "markdown",
      "source": [
        "\n",
        "\n",
        "```\n",
        "# This is formatted as code\n",
        "```\n",
        "\n",
        "# Sources\n",
        "\n",
        "- Show the UCLA documents, how to launch them, how to access our github and colab files.\n",
        "\n",
        "[1. UCLA Main Tutorial](https://www.youtube.com/watch?v=rrGw6ct-Cbw)\n",
        "\n",
        "[2. UCLA documentation - Getting started with GIS](https://github.com/yohman/getting-started-with-gis/blob/5966855cf41d738dd8c149c0a0903e4470ca087c/Intro%20to%20GIS.ipynb)\n",
        "\n",
        "[3. Our github repository](https://colab.research.google.com/drive/14BpCgg9ZXze1mGtJo_DvSjc0SUiR5bn1#scrollTo=HEpUpRcrSR5u&line=13&uniqifier=1)\n",
        "\n",
        "[4. Youtube playlist by UCLA - GIS and spatial data](https://www.youtube.com/playlist?list=PL0dtAcxFkq3vn6gCXSPUmkG98O6LzIsgF)"
      ],
      "metadata": {
        "id": "HEpUpRcrSR5u"
      }
    },
    {
      "cell_type": "markdown",
      "source": [
        "# What is GIS?\n",
        "\n",
        "\n",
        "*   Computer-based tools used to store, visualize, analyze, and interpret geographic data (spatial, or geospatial data).\n",
        "\n",
        "*   Geographical data identifies the geographic location of features.\n",
        "\n",
        "-? Spatial data & Non-spatial data examples, connection between them, the figure.\n",
        "\n",
        "-? Explain how this is related to our projects.\n",
        "\n",
        "-? How to find a geoprahical data?"
      ],
      "metadata": {
        "id": "x0WOPmp4ZqLt"
      }
    },
    {
      "cell_type": "markdown",
      "source": [
        "# Pandas and Census Data\n",
        "\n",
        "Libraries\n",
        "\n",
        "- [geopandas:](https://geopandas.org/en/stable/) to read a geojson file ?. Spatial operations on geometric types\n",
        "\n",
        "- [contextily](https://contextily.readthedocs.io/en/latest/): to add basemaps ?\n",
        "\n",
        "renaming columns\n",
        "\n",
        "normalizing data columns\n",
        "\n",
        "simple stats\n",
        "\n",
        "we will talk about simple operations in those libraries"
      ],
      "metadata": {
        "id": "hCOgrMNmTr5s"
      }
    },
    {
      "cell_type": "code",
      "source": [],
      "metadata": {
        "id": "8Y0mluFkfWgv"
      },
      "execution_count": null,
      "outputs": []
    },
    {
      "cell_type": "markdown",
      "source": [
        "# Where to get census data?\n",
        "\n",
        "- [Census Bureau:](https://www.census.gov/data.html) Main source, but complicated\n",
        "\n",
        "- [Census Reporter:](https://censusreporter.org/) Non-profit & avaliable to everybody\n",
        "\n",
        "- [Chicago data portal](https://data.cityofchicago.org/)\n",
        "\n",
        "UCLA presentation discuss how to get data. I got the corresponding data for Chicago. We will work on this.\n",
        "\n",
        "https://censusreporter.org/tables/B03002/ - go to the page, and talk about data a little bit.\n",
        "I already downloaded it.\n",
        "\n",
        "# Data Properties\n",
        "\n",
        "Summary Levels:\n",
        "\n",
        "These are the fundamental summary levels of the Census:\n",
        "\n",
        "010 The United States\n",
        "\n",
        "040 States\n",
        "\n",
        "050 Counties\n",
        "\n",
        "140 Census Tracts\n",
        "\n",
        "For each of these, the next level down is a perfect subdivision—that is, all of the \"parent\" geography is covered by the \"children.\"\n",
        "\n"
      ],
      "metadata": {
        "id": "GUa7XHgofX_i"
      }
    },
    {
      "cell_type": "code",
      "source": [],
      "metadata": {
        "id": "k1wOJ9VzjXj5"
      },
      "execution_count": null,
      "outputs": []
    },
    {
      "cell_type": "markdown",
      "source": [
        "# Chicago Information\n",
        "\n",
        "[blocks, tracts, community areas](https://www.lib.uchicago.edu/e/collections/maps/censusinfo.html) - UC page\n",
        "\n",
        "[Boundries of Chicago](https://data.cityofchicago.org/Facilities-Geographic-Boundaries/Boundaries-Census-Blocks-2010/mfzt-js4n) - Chicago data portal"
      ],
      "metadata": {
        "id": "1ZwgT1JMjcLt"
      }
    },
    {
      "cell_type": "code",
      "source": [],
      "metadata": {
        "id": "y2Pid32BkJbk"
      },
      "execution_count": null,
      "outputs": []
    }
  ]
}